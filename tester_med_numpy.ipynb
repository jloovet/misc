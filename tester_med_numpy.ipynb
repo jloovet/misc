{
 "cells": [
  {
   "cell_type": "code",
   "execution_count": 2,
   "metadata": {},
   "outputs": [],
   "source": [
    "import numpy as np\n"
   ]
  },
  {
   "cell_type": "code",
   "execution_count": 13,
   "metadata": {},
   "outputs": [],
   "source": [
    "arr = np.array([[1,2],[3,4],[5,6]])\n"
   ]
  },
  {
   "cell_type": "code",
   "execution_count": 3,
   "metadata": {},
   "outputs": [
    {
     "data": {
      "text/plain": [
       "array([1, 2, 3])"
      ]
     },
     "execution_count": 3,
     "metadata": {},
     "output_type": "execute_result"
    }
   ],
   "source": [
    "arr\n"
   ]
  },
  {
   "cell_type": "code",
   "execution_count": 9,
   "metadata": {},
   "outputs": [
    {
     "data": {
      "text/plain": [
       "array([[2, 4],\n",
       "       [6, 8]])"
      ]
     },
     "execution_count": 9,
     "metadata": {},
     "output_type": "execute_result"
    }
   ],
   "source": [
    "arr + arr"
   ]
  },
  {
   "cell_type": "code",
   "execution_count": 11,
   "metadata": {},
   "outputs": [
    {
     "data": {
      "text/plain": [
       "array([[1, 2],\n",
       "       [3, 4]])"
      ]
     },
     "execution_count": 11,
     "metadata": {},
     "output_type": "execute_result"
    }
   ],
   "source": [
    "arr"
   ]
  },
  {
   "cell_type": "code",
   "execution_count": 14,
   "metadata": {},
   "outputs": [
    {
     "data": {
      "text/plain": [
       "(3, 2)"
      ]
     },
     "execution_count": 14,
     "metadata": {},
     "output_type": "execute_result"
    }
   ],
   "source": [
    "arr.shape"
   ]
  },
  {
   "cell_type": "code",
   "execution_count": 18,
   "metadata": {},
   "outputs": [
    {
     "data": {
      "text/plain": [
       "array([1, 3, 5])"
      ]
     },
     "execution_count": 18,
     "metadata": {},
     "output_type": "execute_result"
    }
   ],
   "source": [
    "    arr[:,0] #all first cells second dim"
   ]
  },
  {
   "cell_type": "code",
   "execution_count": 19,
   "metadata": {},
   "outputs": [],
   "source": [
    "arr1 = np.array([1,2,3,4,5,6])"
   ]
  },
  {
   "cell_type": "code",
   "execution_count": 25,
   "metadata": {},
   "outputs": [
    {
     "data": {
      "text/plain": [
       "array([[4],\n",
       "       [6]])"
      ]
     },
     "execution_count": 25,
     "metadata": {},
     "output_type": "execute_result"
    }
   ],
   "source": [
    "arr[1:,1:]\n"
   ]
  },
  {
   "cell_type": "code",
   "execution_count": 33,
   "metadata": {},
   "outputs": [
    {
     "data": {
      "text/plain": [
       "array([3, 3, 3, 3, 3, 3, 3, 3, 3, 3])"
      ]
     },
     "execution_count": 33,
     "metadata": {},
     "output_type": "execute_result"
    }
   ],
   "source": [
    "np.repeat(3,10)"
   ]
  },
  {
   "cell_type": "code",
   "execution_count": 32,
   "metadata": {},
   "outputs": [
    {
     "data": {
      "text/plain": [
       "8"
      ]
     },
     "execution_count": 32,
     "metadata": {},
     "output_type": "execute_result"
    }
   ],
   "source": [
    "np.max(8)"
   ]
  },
  {
   "cell_type": "code",
   "execution_count": 34,
   "metadata": {},
   "outputs": [
    {
     "data": {
      "text/plain": [
       "array([[1, 2],\n",
       "       [3, 4],\n",
       "       [5, 6]])"
      ]
     },
     "execution_count": 34,
     "metadata": {},
     "output_type": "execute_result"
    }
   ],
   "source": [
    "arr"
   ]
  },
  {
   "cell_type": "code",
   "execution_count": 35,
   "metadata": {},
   "outputs": [],
   "source": [
    "arr2 = np.array([[10,20],[30,40],[50,60]])"
   ]
  },
  {
   "cell_type": "code",
   "execution_count": 36,
   "metadata": {},
   "outputs": [
    {
     "data": {
      "text/plain": [
       "array([[ 10,  40],\n",
       "       [ 90, 160],\n",
       "       [250, 360]])"
      ]
     },
     "execution_count": 36,
     "metadata": {},
     "output_type": "execute_result"
    }
   ],
   "source": [
    "arr * arr2"
   ]
  },
  {
   "cell_type": "code",
   "execution_count": 37,
   "metadata": {},
   "outputs": [
    {
     "name": "stdout",
     "output_type": "stream",
     "text": [
      "537 ns ± 11.2 ns per loop (mean ± std. dev. of 7 runs, 1000000 loops each)\n"
     ]
    }
   ],
   "source": [
    "%timeit arr * arr2 #visa tidsåtgång (grej i jupyter)"
   ]
  },
  {
   "cell_type": "code",
   "execution_count": 42,
   "metadata": {},
   "outputs": [
    {
     "name": "stdout",
     "output_type": "stream",
     "text": [
      "<p>John Doe</p>\n"
     ]
    }
   ],
   "source": [
    "def my_decorator(func): #all func could be uaed s decorators -returns new func\n",
    "   def func_wrapper(*args, **kwargs):\n",
    "       return \"<p>{0}</p>\".format(func(*args, **kwargs))\n",
    "   return func_wrapper\n",
    "\n",
    "class Person(object):\n",
    "    def __init__(self):\n",
    "        self.name = \"John\"\n",
    "        self.family = \"Doe\"\n",
    "\n",
    "    @my_decorator\n",
    "    #following becomes input arg to my decorator\n",
    "    def get_fullname(self):\n",
    "        return self.name+\" \"+self.family\n",
    "\n",
    "my_person = Person()\n",
    "\n",
    "print(my_person.get_fullname())\n",
    "\n"
   ]
  },
  {
   "cell_type": "code",
   "execution_count": 18,
   "metadata": {},
   "outputs": [],
   "source": [
    "a = np.arange(12).reshape(4,-1)\n"
   ]
  },
  {
   "cell_type": "code",
   "execution_count": 12,
   "metadata": {},
   "outputs": [
    {
     "data": {
      "text/plain": [
       "array([[ 0],\n",
       "       [ 1],\n",
       "       [ 2],\n",
       "       [ 3],\n",
       "       [ 4],\n",
       "       [ 5],\n",
       "       [ 6],\n",
       "       [ 7],\n",
       "       [ 8],\n",
       "       [ 9],\n",
       "       [10],\n",
       "       [11]])"
      ]
     },
     "execution_count": 12,
     "metadata": {},
     "output_type": "execute_result"
    }
   ],
   "source": [
    "a.reshape(12,-1)"
   ]
  },
  {
   "cell_type": "code",
   "execution_count": 15,
   "metadata": {},
   "outputs": [
    {
     "data": {
      "text/plain": [
       "array([[ 0,  1,  2],\n",
       "       [ 3,  4,  5],\n",
       "       [ 6,  7,  8],\n",
       "       [ 9, 10, 11]])"
      ]
     },
     "execution_count": 15,
     "metadata": {},
     "output_type": "execute_result"
    }
   ],
   "source": [
    "    a"
   ]
  },
  {
   "cell_type": "code",
   "execution_count": 19,
   "metadata": {},
   "outputs": [],
   "source": [
    "b = np.arange(12,24).reshape(4,-1)"
   ]
  },
  {
   "cell_type": "code",
   "execution_count": 20,
   "metadata": {},
   "outputs": [
    {
     "data": {
      "text/plain": [
       "array([[12, 13, 14],\n",
       "       [15, 16, 17],\n",
       "       [18, 19, 20],\n",
       "       [21, 22, 23]])"
      ]
     },
     "execution_count": 20,
     "metadata": {},
     "output_type": "execute_result"
    }
   ],
   "source": [
    "b\n"
   ]
  },
  {
   "cell_type": "code",
   "execution_count": 21,
   "metadata": {},
   "outputs": [],
   "source": [
    "np.concatenate?  # -> shows doc"
   ]
  },
  {
   "cell_type": "code",
   "execution_count": 22,
   "metadata": {},
   "outputs": [
    {
     "data": {
      "text/plain": [
       "array([[ 0,  1,  2, 12, 13, 14],\n",
       "       [ 3,  4,  5, 15, 16, 17],\n",
       "       [ 6,  7,  8, 18, 19, 20],\n",
       "       [ 9, 10, 11, 21, 22, 23]])"
      ]
     },
     "execution_count": 22,
     "metadata": {},
     "output_type": "execute_result"
    }
   ],
   "source": [
    "np.concatenate([a,b], axis=1)"
   ]
  },
  {
   "cell_type": "code",
   "execution_count": 24,
   "metadata": {},
   "outputs": [],
   "source": [
    "import matplotlib.pyplot as plt\n"
   ]
  },
  {
   "cell_type": "code",
   "execution_count": 28,
   "metadata": {},
   "outputs": [
    {
     "data": {
      "text/plain": [
       "[<matplotlib.lines.Line2D at 0x10e8d1a58>]"
      ]
     },
     "execution_count": 28,
     "metadata": {},
     "output_type": "execute_result"
    },
    {
     "data": {
      "image/png": "[encoded data removed]",
      "text/plain": [
       "<matplotlib.figure.Figure at 0x10e4187b8>"
      ]
     },
     "metadata": {},
     "output_type": "display_data"
    }
   ],
   "source": [
    "plt.plot(np.arange(12,24))"
   ]
  },
  {
   "cell_type": "code",
   "execution_count": 29,
   "metadata": {},
   "outputs": [],
   "source": [
    "rain = np.random.exponential(1, size=365)"
   ]
  },
  {
   "cell_type": "code",
   "execution_count": 30,
   "metadata": {},
   "outputs": [
    {
     "data": {
      "text/plain": [
       "[<matplotlib.lines.Line2D at 0x10e8e60f0>]"
      ]
     },
     "execution_count": 30,
     "metadata": {},
     "output_type": "execute_result"
    },
    {
     "data": {
      "image/png": "[encoded data removed]",
      "text/plain": [
       "<matplotlib.figure.Figure at 0x10e0d2be0>"
      ]
     },
     "metadata": {},
     "output_type": "display_data"
    }
   ],
   "source": [
    "plt.plot(rain)"
   ]
  },
  {
   "cell_type": "code",
   "execution_count": 31,
   "metadata": {},
   "outputs": [
    {
     "data": {
      "text/plain": [
       "array([  3.52833904e+00,   3.73659246e+00,   1.38015954e+00,\n",
       "         1.27431378e+00,   1.66496716e-01,   1.06512117e+00,\n",
       "         1.22345071e+00,   8.00713205e-01,   2.36497248e+00,\n",
       "         4.28963572e-01,   1.45062336e-01,   8.79559469e-01,\n",
       "         1.90173469e-01,   1.25302963e-01,   1.67000385e+00,\n",
       "         2.06226815e-01,   1.86562049e+00,   3.76054242e+00,\n",
       "         1.74100283e-01,   1.27566613e-01,   1.88621312e-01,\n",
       "         2.31908007e-01,   7.44572513e-01,   1.81486957e+00,\n",
       "         3.06550127e+00,   3.58025421e-01,   3.71661204e+00,\n",
       "         2.47618966e+00,   1.49868076e+00,   1.06017919e+00,\n",
       "         1.58027721e+00,   3.65011462e+00,   2.98648308e+00,\n",
       "         3.52725714e-02,   1.01936656e+00,   5.02874876e-01,\n",
       "         7.61930085e-01,   3.62354807e-01,   1.20020814e+00,\n",
       "         3.35161189e+00,   4.86573872e-01,   5.46950891e-01,\n",
       "         1.70707069e+00,   2.09832481e+00,   2.18582351e-01,\n",
       "         9.30542466e-01,   1.25270700e+00,   2.76376230e+00,\n",
       "         2.25827082e-01,   6.49351840e+00,   5.33133922e-01,\n",
       "         1.79299399e-01,   1.68771311e+00,   6.00920369e-01,\n",
       "         5.91542610e-01,   5.90810016e-01,   8.53798380e-01,\n",
       "         3.06409496e-01,   4.20977544e-01,   1.53137071e+00,\n",
       "         5.60874736e-01,   1.86169420e-01,   1.30662574e+00,\n",
       "         9.99726901e-02,   9.93021901e-01,   2.11083030e-01,\n",
       "         4.94724700e-01,   8.92367208e-01,   1.97503228e-01,\n",
       "         1.73155688e+00,   3.25719055e-01,   7.85339001e-01,\n",
       "         1.20102931e+00,   1.09274654e+00,   3.40930627e-01,\n",
       "         1.31879111e-01,   9.54125885e-01,   6.62333637e-01,\n",
       "         7.05926076e-01,   1.43272181e-01,   2.92952816e+00,\n",
       "         3.04249711e-02,   1.46454386e-01,   4.47413823e-01,\n",
       "         1.55698777e-01,   2.42646425e+00,   3.75789684e-01,\n",
       "         7.17564412e-01,   3.59347843e-01,   1.27425003e+00,\n",
       "         1.37853176e+00,   2.10521486e-01,   2.29305247e+00,\n",
       "         4.66098939e-01,   5.63729879e-01,   1.53186917e+00,\n",
       "         1.14255902e-01,   2.24556256e+00,   1.23444941e+00,\n",
       "         4.43700915e-01,   7.47945898e-01,   1.29291349e+00,\n",
       "         4.52742948e-01,   6.39548168e-02,   8.13469769e-02,\n",
       "         1.37887842e+00,   2.75599066e-01,   5.50379739e-01,\n",
       "         7.87344761e-01,   3.49645341e-01,   7.32213739e-01,\n",
       "         3.37735580e+00,   1.21503116e+00,   2.38356733e-01,\n",
       "         3.42856159e-01,   1.82942523e-01,   3.65272708e+00,\n",
       "         4.72710787e-01,   1.96473536e+00,   5.98431809e-01,\n",
       "         7.35076719e-01,   2.91546752e-01,   5.40526335e-01,\n",
       "         3.43007392e-01,   4.57280643e-01,   8.39621754e-01,\n",
       "         1.65182630e-01,   2.61379137e-02,   1.74823694e+00,\n",
       "         2.33272447e+00,   2.09883699e-01,   2.54717481e-01,\n",
       "         2.55532809e-01,   3.28025226e-01,   5.47587289e-02,\n",
       "         5.76155399e-01,   1.03870578e+00,   2.39759307e-01,\n",
       "         8.78156622e-01,   5.54688291e-01,   2.63015606e-01,\n",
       "         2.91424165e+00,   3.10360849e+00,   9.90485617e-01,\n",
       "         5.38364377e-01,   9.01232304e-01,   8.50283313e-01,\n",
       "         2.34238721e+00,   4.65341983e-01,   1.29529881e+00,\n",
       "         5.82019838e-01,   2.58718268e-01,   2.87351194e-01,\n",
       "         1.14147251e+00,   4.11221963e-01,   6.08066230e-01,\n",
       "         6.06647461e-01,   7.33120119e-01,   2.38150439e-01,\n",
       "         3.28190476e+00,   6.86492230e-01,   3.26943854e+00,\n",
       "         1.04376795e+00,   5.46162432e-01,   1.51591159e+00,\n",
       "         1.10301023e-01,   5.04823371e+00,   1.40364746e-01,\n",
       "         3.61272764e-01,   4.09080733e-01,   1.06366178e+00,\n",
       "         4.13785472e-01,   1.46499698e+00,   4.77560361e-02,\n",
       "         7.89269136e-01,   4.60738075e-01,   1.58234483e+00,\n",
       "         2.66276837e-01,   9.84481818e-01,   5.03610599e-02,\n",
       "         6.30080773e-01,   1.59766490e+00,   3.73134355e-01,\n",
       "         1.45293325e+00,   1.32062536e-01,   2.77564175e+00,\n",
       "         1.21322046e+00,   3.58340332e-01,   6.69109048e-01,\n",
       "         4.41588775e-01,   1.05890331e+00,   2.58417876e-01,\n",
       "         1.01234221e+00,   1.01144527e+00,   6.22085606e-01,\n",
       "         1.13399350e+00,   7.26259990e-01,   2.61176098e-01,\n",
       "         1.30183551e+00,   1.35706117e+00,   1.32045593e+00,\n",
       "         2.45876777e+00,   5.05127893e-02,   2.56627703e-01,\n",
       "         8.85102408e-01,   4.40475986e-01,   1.43525453e+00,\n",
       "         1.72944637e+00,   3.58684337e+00,   1.14184511e+00,\n",
       "         1.29056175e+00,   2.28641422e+00,   9.72315666e-01,\n",
       "         1.56023727e+00,   1.62660131e+00,   1.97407530e-01,\n",
       "         1.42357666e+00,   2.67370770e+00,   1.27820069e+00,\n",
       "         8.94708786e-01,   1.60665981e+00,   8.27841294e-01,\n",
       "         8.47945050e-03,   1.16005798e-01,   1.46124130e+00,\n",
       "         1.83999182e+00,   1.54861117e+00,   9.94072570e-01,\n",
       "         1.45303579e+00,   5.48152944e-01,   4.11024743e-01,\n",
       "         5.13391672e-01,   5.04759530e-01,   2.39385983e+00,\n",
       "         1.36011858e+00,   1.11738063e+00,   1.84541793e+00,\n",
       "         1.32804696e+00,   1.60507225e-01,   4.95535209e-01,\n",
       "         4.06294575e+00,   9.54606262e-02,   9.06625338e-01,\n",
       "         1.56125442e+00,   3.77420974e-01,   1.88754771e+00,\n",
       "         4.74891930e-02,   2.89189682e+00,   1.25685753e+00,\n",
       "         2.31321833e+00,   1.00072971e-01,   2.80912483e-01,\n",
       "         1.60346976e-02,   1.14819809e+00,   1.21837388e+00,\n",
       "         2.25122114e+00,   3.00104358e-02,   1.18389500e+00,\n",
       "         7.69226001e-01,   1.33251838e+00,   9.08417719e-02,\n",
       "         3.01309862e-01,   7.15759998e-01,   1.36212636e+00,\n",
       "         5.73351989e-01,   1.17678892e-01,   1.01148767e+00,\n",
       "         1.71302987e+00,   1.12437554e+00,   2.05768606e+00,\n",
       "         6.31020937e-01,   1.26957149e+00,   2.00241383e+00,\n",
       "         1.55573401e-01,   2.50515229e+00,   2.48810701e-01,\n",
       "         4.33036007e-01,   7.99139329e-02,   1.37661476e+00,\n",
       "         6.97000275e-01,   3.59428077e-01,   1.12371491e-01,\n",
       "         5.75687256e-01,   3.45689542e-01,   1.73909205e-01,\n",
       "         8.82983581e-01,   8.81077788e-01,   3.19095208e+00,\n",
       "         1.94972560e+00,   1.27154272e+00,   5.53252613e-01,\n",
       "         2.68811099e-02,   3.30629894e-01,   1.61490271e+00,\n",
       "         2.18235028e+00,   4.49068690e-01,   5.12442487e-01,\n",
       "         1.12927841e+00,   5.66333792e-01,   9.81291598e-01,\n",
       "         1.44004219e-01,   1.48544996e+00,   6.60785827e-01,\n",
       "         4.13158929e-01,   1.04598761e+00,   7.99843755e-01,\n",
       "         1.36940381e+00,   1.67689654e-01,   4.23415209e-02,\n",
       "         1.45524888e+00,   2.63719933e-01,   3.80921321e+00,\n",
       "         4.48114698e-03,   5.28623623e-01,   9.75601413e-02,\n",
       "         1.38396820e+00,   1.76588454e-03,   1.34626607e+00,\n",
       "         2.18356103e-01,   7.95644223e-02,   1.55444800e+00,\n",
       "         2.28546232e-01,   1.84050361e+00,   3.82826887e-01,\n",
       "         8.23572458e-01,   6.79464557e-01,   2.34422737e-02,\n",
       "         7.92703200e-01,   1.11088671e+00,   8.23473733e-02,\n",
       "         1.70347872e+00,   3.44001646e+00,   6.44173525e-01,\n",
       "         1.09839883e+00,   3.74582112e-02,   4.56096990e-01,\n",
       "         2.46671849e-01,   2.65890795e-02,   1.04715926e+00,\n",
       "         3.93853455e-01,   3.15113716e+00,   5.99475513e-01,\n",
       "         1.23032333e+00,   4.73076128e-01,   9.65480932e-01,\n",
       "         1.84189743e+00,   3.66787171e+00,   2.00734295e+00,\n",
       "         3.23001149e-01,   1.10166687e+00,   3.81117062e-01,\n",
       "         1.08479774e+00,   8.67157488e-01,   2.93699144e-01,\n",
       "         6.77501991e-01,   3.13638105e+00,   2.82513968e-01,\n",
       "         1.09455475e-01,   5.11231357e-01,   5.29857757e-02,\n",
       "         2.77990016e-02,   3.81123701e-01,   9.83598940e-01,\n",
       "         1.55258765e+00,   6.72198946e-01])"
      ]
     },
     "execution_count": 31,
     "metadata": {},
     "output_type": "execute_result"
    }
   ],
   "source": [
    "rain"
   ]
  },
  {
   "cell_type": "code",
   "execution_count": 34,
   "metadata": {},
   "outputs": [
    {
     "data": {
      "text/plain": [
       "(array([ 21.,  17.,  20.,  22.,  13.,  19.,  16.,  14.,  17.,  11.,  10.,\n",
       "          9.,   9.,  12.,   4.,  11.,  11.,   8.,   9.,  10.,   9.,   7.,\n",
       "          7.,   7.,   7.,   3.,   6.,   1.,   5.,   1.,   4.,   1.,   1.,\n",
       "          1.,   2.,   4.,   3.,   2.,   2.,   0.,   0.,   1.,   2.,   0.,\n",
       "          2.,   2.,   0.,   2.,   2.,   1.,   2.,   2.,   1.,   0.,   1.,\n",
       "          1.,   3.,   3.,   1.,   0.,   0.,   0.,   1.,   0.,   0.,   0.,\n",
       "          0.,   0.,   0.,   0.,   0.,   0.,   0.,   0.,   0.,   0.,   0.,\n",
       "          1.,   0.,   0.,   0.,   0.,   0.,   0.,   0.,   0.,   0.,   0.,\n",
       "          0.,   0.,   0.,   0.,   0.,   0.,   0.,   0.,   0.,   0.,   0.,\n",
       "          1.]), array([  1.76588454e-03,   6.66834097e-02,   1.31600935e-01,\n",
       "          1.96518460e-01,   2.61435985e-01,   3.26353510e-01,\n",
       "          3.91271036e-01,   4.56188561e-01,   5.21106086e-01,\n",
       "          5.86023611e-01,   6.50941136e-01,   7.15858661e-01,\n",
       "          7.80776187e-01,   8.45693712e-01,   9.10611237e-01,\n",
       "          9.75528762e-01,   1.04044629e+00,   1.10536381e+00,\n",
       "          1.17028134e+00,   1.23519886e+00,   1.30011639e+00,\n",
       "          1.36503391e+00,   1.42995144e+00,   1.49486896e+00,\n",
       "          1.55978649e+00,   1.62470401e+00,   1.68962154e+00,\n",
       "          1.75453906e+00,   1.81945659e+00,   1.88437411e+00,\n",
       "          1.94929164e+00,   2.01420916e+00,   2.07912669e+00,\n",
       "          2.14404422e+00,   2.20896174e+00,   2.27387927e+00,\n",
       "          2.33879679e+00,   2.40371432e+00,   2.46863184e+00,\n",
       "          2.53354937e+00,   2.59846689e+00,   2.66338442e+00,\n",
       "          2.72830194e+00,   2.79321947e+00,   2.85813699e+00,\n",
       "          2.92305452e+00,   2.98797204e+00,   3.05288957e+00,\n",
       "          3.11780709e+00,   3.18272462e+00,   3.24764214e+00,\n",
       "          3.31255967e+00,   3.37747719e+00,   3.44239472e+00,\n",
       "          3.50731224e+00,   3.57222977e+00,   3.63714729e+00,\n",
       "          3.70206482e+00,   3.76698234e+00,   3.83189987e+00,\n",
       "          3.89681739e+00,   3.96173492e+00,   4.02665245e+00,\n",
       "          4.09156997e+00,   4.15648750e+00,   4.22140502e+00,\n",
       "          4.28632255e+00,   4.35124007e+00,   4.41615760e+00,\n",
       "          4.48107512e+00,   4.54599265e+00,   4.61091017e+00,\n",
       "          4.67582770e+00,   4.74074522e+00,   4.80566275e+00,\n",
       "          4.87058027e+00,   4.93549780e+00,   5.00041532e+00,\n",
       "          5.06533285e+00,   5.13025037e+00,   5.19516790e+00,\n",
       "          5.26008542e+00,   5.32500295e+00,   5.38992047e+00,\n",
       "          5.45483800e+00,   5.51975552e+00,   5.58467305e+00,\n",
       "          5.64959057e+00,   5.71450810e+00,   5.77942563e+00,\n",
       "          5.84434315e+00,   5.90926068e+00,   5.97417820e+00,\n",
       "          6.03909573e+00,   6.10401325e+00,   6.16893078e+00,\n",
       "          6.23384830e+00,   6.29876583e+00,   6.36368335e+00,\n",
       "          6.42860088e+00,   6.49351840e+00]), <a list of 100 Patch objects>)"
      ]
     },
     "execution_count": 34,
     "metadata": {},
     "output_type": "execute_result"
    },
    {
     "data": {
      "image/png": "[encoded data removed]",
      "text/plain": [
       "<matplotlib.figure.Figure at 0x10e4738d0>"
      ]
     },
     "metadata": {},
     "output_type": "display_data"
    }
   ],
   "source": [
    "plt.hist(rain, bins=100)"
   ]
  },
  {
   "cell_type": "code",
   "execution_count": null,
   "metadata": {},
   "outputs": [],
   "source": []
  }
 ],
 "metadata": {
  "kernelspec": {
   "display_name": "Python 3",
   "language": "python",
   "name": "python3"
  },
  "language_info": {
   "codemirror_mode": {
    "name": "ipython",
    "version": 3
   },
   "file_extension": ".py",
   "mimetype": "text/x-python",
   "name": "python",
   "nbconvert_exporter": "python",
   "pygments_lexer": "ipython3",
   "version": "3.6.3"
  }
 },
 "nbformat": 4,
 "nbformat_minor": 2
}
